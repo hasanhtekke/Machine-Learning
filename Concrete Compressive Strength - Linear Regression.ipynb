{
 "cells": [
  {
   "cell_type": "code",
   "execution_count": 1,
   "id": "3bc26d99",
   "metadata": {},
   "outputs": [],
   "source": [
    "import pandas as pd\n",
    "import numpy as np"
   ]
  },
  {
   "cell_type": "code",
   "execution_count": 2,
   "id": "3e907692",
   "metadata": {},
   "outputs": [],
   "source": [
    "data = pd.read_csv('concrete.csv')"
   ]
  },
  {
   "cell_type": "code",
   "execution_count": 3,
   "id": "52e5d5bc",
   "metadata": {},
   "outputs": [
    {
     "data": {
      "text/html": [
       "<div>\n",
       "<style scoped>\n",
       "    .dataframe tbody tr th:only-of-type {\n",
       "        vertical-align: middle;\n",
       "    }\n",
       "\n",
       "    .dataframe tbody tr th {\n",
       "        vertical-align: top;\n",
       "    }\n",
       "\n",
       "    .dataframe thead th {\n",
       "        text-align: right;\n",
       "    }\n",
       "</style>\n",
       "<table border=\"1\" class=\"dataframe\">\n",
       "  <thead>\n",
       "    <tr style=\"text-align: right;\">\n",
       "      <th></th>\n",
       "      <th>Cement</th>\n",
       "      <th>Blast_Furnace_Slag</th>\n",
       "      <th>Fly_Ash</th>\n",
       "      <th>Water</th>\n",
       "      <th>Superplasticizer</th>\n",
       "      <th>Coarse_Aggregate</th>\n",
       "      <th>Fine_Aggregate</th>\n",
       "      <th>Age</th>\n",
       "      <th>Type</th>\n",
       "      <th>Concrete_compressive_strength</th>\n",
       "    </tr>\n",
       "  </thead>\n",
       "  <tbody>\n",
       "    <tr>\n",
       "      <th>0</th>\n",
       "      <td>540.0</td>\n",
       "      <td>0.0</td>\n",
       "      <td>0.0</td>\n",
       "      <td>162.0</td>\n",
       "      <td>2.5</td>\n",
       "      <td>1040.0</td>\n",
       "      <td>676.0</td>\n",
       "      <td>28</td>\n",
       "      <td>B</td>\n",
       "      <td>79.986111</td>\n",
       "    </tr>\n",
       "    <tr>\n",
       "      <th>1</th>\n",
       "      <td>540.0</td>\n",
       "      <td>0.0</td>\n",
       "      <td>NaN</td>\n",
       "      <td>162.0</td>\n",
       "      <td>2.5</td>\n",
       "      <td>1055.0</td>\n",
       "      <td>676.0</td>\n",
       "      <td>28</td>\n",
       "      <td>A</td>\n",
       "      <td>61.887366</td>\n",
       "    </tr>\n",
       "    <tr>\n",
       "      <th>2</th>\n",
       "      <td>332.5</td>\n",
       "      <td>142.5</td>\n",
       "      <td>0.0</td>\n",
       "      <td>228.0</td>\n",
       "      <td>0.0</td>\n",
       "      <td>932.0</td>\n",
       "      <td>594.0</td>\n",
       "      <td>270</td>\n",
       "      <td>A</td>\n",
       "      <td>40.269535</td>\n",
       "    </tr>\n",
       "    <tr>\n",
       "      <th>3</th>\n",
       "      <td>332.5</td>\n",
       "      <td>142.5</td>\n",
       "      <td>NaN</td>\n",
       "      <td>228.0</td>\n",
       "      <td>0.0</td>\n",
       "      <td>932.0</td>\n",
       "      <td>594.0</td>\n",
       "      <td>365</td>\n",
       "      <td>A</td>\n",
       "      <td>41.052780</td>\n",
       "    </tr>\n",
       "    <tr>\n",
       "      <th>4</th>\n",
       "      <td>198.6</td>\n",
       "      <td>132.4</td>\n",
       "      <td>NaN</td>\n",
       "      <td>192.0</td>\n",
       "      <td>0.0</td>\n",
       "      <td>978.4</td>\n",
       "      <td>825.5</td>\n",
       "      <td>360</td>\n",
       "      <td>A</td>\n",
       "      <td>44.296075</td>\n",
       "    </tr>\n",
       "  </tbody>\n",
       "</table>\n",
       "</div>"
      ],
      "text/plain": [
       "   Cement  Blast_Furnace_Slag  Fly_Ash  Water  Superplasticizer  \\\n",
       "0   540.0                 0.0      0.0  162.0               2.5   \n",
       "1   540.0                 0.0      NaN  162.0               2.5   \n",
       "2   332.5               142.5      0.0  228.0               0.0   \n",
       "3   332.5               142.5      NaN  228.0               0.0   \n",
       "4   198.6               132.4      NaN  192.0               0.0   \n",
       "\n",
       "   Coarse_Aggregate  Fine_Aggregate  Age Type  Concrete_compressive_strength  \n",
       "0            1040.0           676.0   28    B                      79.986111  \n",
       "1            1055.0           676.0   28    A                      61.887366  \n",
       "2             932.0           594.0  270    A                      40.269535  \n",
       "3             932.0           594.0  365    A                      41.052780  \n",
       "4             978.4           825.5  360    A                      44.296075  "
      ]
     },
     "execution_count": 3,
     "metadata": {},
     "output_type": "execute_result"
    }
   ],
   "source": [
    "#Loading Data\n",
    "data.head()"
   ]
  },
  {
   "cell_type": "code",
   "execution_count": 4,
   "id": "80ce849d",
   "metadata": {},
   "outputs": [
    {
     "name": "stdout",
     "output_type": "stream",
     "text": [
      "<class 'pandas.core.frame.DataFrame'>\n",
      "RangeIndex: 1030 entries, 0 to 1029\n",
      "Data columns (total 10 columns):\n",
      " #   Column                         Non-Null Count  Dtype  \n",
      "---  ------                         --------------  -----  \n",
      " 0   Cement                         1021 non-null   float64\n",
      " 1   Blast_Furnace_Slag             1030 non-null   float64\n",
      " 2   Fly_Ash                        1019 non-null   float64\n",
      " 3   Water                          1017 non-null   float64\n",
      " 4   Superplasticizer               1022 non-null   float64\n",
      " 5   Coarse_Aggregate               1030 non-null   float64\n",
      " 6   Fine_Aggregate                 1030 non-null   float64\n",
      " 7   Age                            1030 non-null   int64  \n",
      " 8   Type                           1024 non-null   object \n",
      " 9   Concrete_compressive_strength  1030 non-null   float64\n",
      "dtypes: float64(8), int64(1), object(1)\n",
      "memory usage: 80.6+ KB\n"
     ]
    }
   ],
   "source": [
    "data.info()"
   ]
  },
  {
   "cell_type": "code",
   "execution_count": 5,
   "id": "7768a633",
   "metadata": {},
   "outputs": [
    {
     "data": {
      "text/html": [
       "<div>\n",
       "<style scoped>\n",
       "    .dataframe tbody tr th:only-of-type {\n",
       "        vertical-align: middle;\n",
       "    }\n",
       "\n",
       "    .dataframe tbody tr th {\n",
       "        vertical-align: top;\n",
       "    }\n",
       "\n",
       "    .dataframe thead th {\n",
       "        text-align: right;\n",
       "    }\n",
       "</style>\n",
       "<table border=\"1\" class=\"dataframe\">\n",
       "  <thead>\n",
       "    <tr style=\"text-align: right;\">\n",
       "      <th></th>\n",
       "      <th>Cement</th>\n",
       "      <th>Blast_Furnace_Slag</th>\n",
       "      <th>Fly_Ash</th>\n",
       "      <th>Water</th>\n",
       "      <th>Superplasticizer</th>\n",
       "      <th>Coarse_Aggregate</th>\n",
       "      <th>Fine_Aggregate</th>\n",
       "      <th>Age</th>\n",
       "      <th>Concrete_compressive_strength</th>\n",
       "    </tr>\n",
       "  </thead>\n",
       "  <tbody>\n",
       "    <tr>\n",
       "      <th>count</th>\n",
       "      <td>1021.000000</td>\n",
       "      <td>1030.000000</td>\n",
       "      <td>1019.000000</td>\n",
       "      <td>1017.000000</td>\n",
       "      <td>1022.000000</td>\n",
       "      <td>1030.000000</td>\n",
       "      <td>1030.000000</td>\n",
       "      <td>1030.000000</td>\n",
       "      <td>1030.000000</td>\n",
       "    </tr>\n",
       "    <tr>\n",
       "      <th>mean</th>\n",
       "      <td>280.746915</td>\n",
       "      <td>73.895485</td>\n",
       "      <td>54.772080</td>\n",
       "      <td>181.425615</td>\n",
       "      <td>6.251668</td>\n",
       "      <td>972.918592</td>\n",
       "      <td>773.578883</td>\n",
       "      <td>45.662136</td>\n",
       "      <td>35.817836</td>\n",
       "    </tr>\n",
       "    <tr>\n",
       "      <th>std</th>\n",
       "      <td>104.740782</td>\n",
       "      <td>86.279104</td>\n",
       "      <td>64.091594</td>\n",
       "      <td>21.088357</td>\n",
       "      <td>5.971460</td>\n",
       "      <td>77.753818</td>\n",
       "      <td>80.175427</td>\n",
       "      <td>63.169912</td>\n",
       "      <td>16.705679</td>\n",
       "    </tr>\n",
       "    <tr>\n",
       "      <th>min</th>\n",
       "      <td>102.000000</td>\n",
       "      <td>0.000000</td>\n",
       "      <td>0.000000</td>\n",
       "      <td>121.750000</td>\n",
       "      <td>0.000000</td>\n",
       "      <td>801.000000</td>\n",
       "      <td>594.000000</td>\n",
       "      <td>1.000000</td>\n",
       "      <td>2.331808</td>\n",
       "    </tr>\n",
       "    <tr>\n",
       "      <th>25%</th>\n",
       "      <td>192.000000</td>\n",
       "      <td>0.000000</td>\n",
       "      <td>0.000000</td>\n",
       "      <td>164.900000</td>\n",
       "      <td>0.000000</td>\n",
       "      <td>932.000000</td>\n",
       "      <td>730.950000</td>\n",
       "      <td>7.000000</td>\n",
       "      <td>23.707115</td>\n",
       "    </tr>\n",
       "    <tr>\n",
       "      <th>50%</th>\n",
       "      <td>272.800000</td>\n",
       "      <td>22.000000</td>\n",
       "      <td>0.000000</td>\n",
       "      <td>185.000000</td>\n",
       "      <td>6.470000</td>\n",
       "      <td>968.000000</td>\n",
       "      <td>779.510000</td>\n",
       "      <td>28.000000</td>\n",
       "      <td>34.442774</td>\n",
       "    </tr>\n",
       "    <tr>\n",
       "      <th>75%</th>\n",
       "      <td>350.000000</td>\n",
       "      <td>142.950000</td>\n",
       "      <td>118.270000</td>\n",
       "      <td>192.000000</td>\n",
       "      <td>10.265000</td>\n",
       "      <td>1029.400000</td>\n",
       "      <td>824.000000</td>\n",
       "      <td>56.000000</td>\n",
       "      <td>46.136287</td>\n",
       "    </tr>\n",
       "    <tr>\n",
       "      <th>max</th>\n",
       "      <td>540.000000</td>\n",
       "      <td>359.400000</td>\n",
       "      <td>200.100000</td>\n",
       "      <td>247.000000</td>\n",
       "      <td>32.200000</td>\n",
       "      <td>1145.000000</td>\n",
       "      <td>992.600000</td>\n",
       "      <td>365.000000</td>\n",
       "      <td>82.599225</td>\n",
       "    </tr>\n",
       "  </tbody>\n",
       "</table>\n",
       "</div>"
      ],
      "text/plain": [
       "            Cement  Blast_Furnace_Slag      Fly_Ash        Water  \\\n",
       "count  1021.000000         1030.000000  1019.000000  1017.000000   \n",
       "mean    280.746915           73.895485    54.772080   181.425615   \n",
       "std     104.740782           86.279104    64.091594    21.088357   \n",
       "min     102.000000            0.000000     0.000000   121.750000   \n",
       "25%     192.000000            0.000000     0.000000   164.900000   \n",
       "50%     272.800000           22.000000     0.000000   185.000000   \n",
       "75%     350.000000          142.950000   118.270000   192.000000   \n",
       "max     540.000000          359.400000   200.100000   247.000000   \n",
       "\n",
       "       Superplasticizer  Coarse_Aggregate  Fine_Aggregate          Age  \\\n",
       "count       1022.000000       1030.000000     1030.000000  1030.000000   \n",
       "mean           6.251668        972.918592      773.578883    45.662136   \n",
       "std            5.971460         77.753818       80.175427    63.169912   \n",
       "min            0.000000        801.000000      594.000000     1.000000   \n",
       "25%            0.000000        932.000000      730.950000     7.000000   \n",
       "50%            6.470000        968.000000      779.510000    28.000000   \n",
       "75%           10.265000       1029.400000      824.000000    56.000000   \n",
       "max           32.200000       1145.000000      992.600000   365.000000   \n",
       "\n",
       "       Concrete_compressive_strength  \n",
       "count                    1030.000000  \n",
       "mean                       35.817836  \n",
       "std                        16.705679  \n",
       "min                         2.331808  \n",
       "25%                        23.707115  \n",
       "50%                        34.442774  \n",
       "75%                        46.136287  \n",
       "max                        82.599225  "
      ]
     },
     "execution_count": 5,
     "metadata": {},
     "output_type": "execute_result"
    }
   ],
   "source": [
    "data.describe()"
   ]
  },
  {
   "cell_type": "markdown",
   "id": "0da07149",
   "metadata": {},
   "source": [
    "# Imputing missing values with mean and median"
   ]
  },
  {
   "cell_type": "code",
   "execution_count": 6,
   "id": "6ec08a9f",
   "metadata": {},
   "outputs": [],
   "source": [
    "updated_data = data.copy()"
   ]
  },
  {
   "cell_type": "code",
   "execution_count": 7,
   "id": "182fc025",
   "metadata": {},
   "outputs": [],
   "source": [
    "updated_data['Cement'] = updated_data['Cement'].fillna(updated_data['Cement'].mean())"
   ]
  },
  {
   "cell_type": "code",
   "execution_count": 8,
   "id": "6f2513bf",
   "metadata": {},
   "outputs": [],
   "source": [
    "updated_data['Water'] = updated_data['Water'].fillna(updated_data['Water'].mean())"
   ]
  },
  {
   "cell_type": "code",
   "execution_count": 9,
   "id": "7b119de1",
   "metadata": {},
   "outputs": [],
   "source": [
    "updated_data['Superplasticizer'] = updated_data['Superplasticizer'].fillna(updated_data['Superplasticizer'].median())"
   ]
  },
  {
   "cell_type": "code",
   "execution_count": 10,
   "id": "b27e3e38",
   "metadata": {},
   "outputs": [],
   "source": [
    "updated_data['Fly_Ash'] = updated_data['Fly_Ash'].fillna(updated_data['Fly_Ash'].mean())"
   ]
  },
  {
   "cell_type": "markdown",
   "id": "80957ef3",
   "metadata": {},
   "source": [
    "# Imputing missing values for categorical variables"
   ]
  },
  {
   "cell_type": "code",
   "execution_count": 11,
   "id": "0e63fe66",
   "metadata": {},
   "outputs": [
    {
     "data": {
      "text/plain": [
       "<AxesSubplot:>"
      ]
     },
     "execution_count": 11,
     "metadata": {},
     "output_type": "execute_result"
    },
    {
     "data": {
      "image/png": "[encoded data removed]",
      "text/plain": [
       "<Figure size 640x480 with 1 Axes>"
      ]
     },
     "metadata": {},
     "output_type": "display_data"
    }
   ],
   "source": [
    "updated_data['Type'].hist()"
   ]
  },
  {
   "cell_type": "code",
   "execution_count": 12,
   "id": "60f8be4c",
   "metadata": {},
   "outputs": [
    {
     "data": {
      "text/plain": [
       "'A'"
      ]
     },
     "execution_count": 12,
     "metadata": {},
     "output_type": "execute_result"
    }
   ],
   "source": [
    "updated_data['Type'].mode()[0]"
   ]
  },
  {
   "cell_type": "code",
   "execution_count": 13,
   "id": "093af161",
   "metadata": {},
   "outputs": [],
   "source": [
    "updated_data['Type'] = updated_data['Type'].fillna(updated_data['Type'].mode()[0])"
   ]
  },
  {
   "cell_type": "code",
   "execution_count": 15,
   "id": "505cf64a",
   "metadata": {},
   "outputs": [
    {
     "name": "stdout",
     "output_type": "stream",
     "text": [
      "<class 'pandas.core.frame.DataFrame'>\n",
      "RangeIndex: 1030 entries, 0 to 1029\n",
      "Data columns (total 10 columns):\n",
      " #   Column                         Non-Null Count  Dtype  \n",
      "---  ------                         --------------  -----  \n",
      " 0   Cement                         1030 non-null   float64\n",
      " 1   Blast_Furnace_Slag             1030 non-null   float64\n",
      " 2   Fly_Ash                        1030 non-null   float64\n",
      " 3   Water                          1030 non-null   float64\n",
      " 4   Superplasticizer               1030 non-null   float64\n",
      " 5   Coarse_Aggregate               1030 non-null   float64\n",
      " 6   Fine_Aggregate                 1030 non-null   float64\n",
      " 7   Age                            1030 non-null   int64  \n",
      " 8   Type                           1030 non-null   object \n",
      " 9   Concrete_compressive_strength  1030 non-null   float64\n",
      "dtypes: float64(8), int64(1), object(1)\n",
      "memory usage: 80.6+ KB\n"
     ]
    }
   ],
   "source": [
    "updated_data.info()"
   ]
  },
  {
   "cell_type": "markdown",
   "id": "2ce8011b",
   "metadata": {},
   "source": [
    "# Encode Categorical Variables Using OneHotEncoder Method"
   ]
  },
  {
   "cell_type": "code",
   "execution_count": 16,
   "id": "461263c1",
   "metadata": {},
   "outputs": [
    {
     "name": "stderr",
     "output_type": "stream",
     "text": [
      "C:\\Users\\VICTUS\\anaconda3\\lib\\site-packages\\sklearn\\utils\\deprecation.py:87: FutureWarning: Function get_feature_names is deprecated; get_feature_names is deprecated in 1.0 and will be removed in 1.2. Please use get_feature_names_out instead.\n",
      "  warnings.warn(msg, category=FutureWarning)\n"
     ]
    }
   ],
   "source": [
    "from sklearn.preprocessing import OneHotEncoder\n",
    "ohe = OneHotEncoder(categories='auto',drop=None,sparse=False)\n",
    "\n",
    "transformed = ohe.fit_transform(updated_data['Type'].to_numpy().reshape(-1,1))\n",
    "ohe_data = pd.DataFrame(transformed, columns = ohe.get_feature_names())\n",
    "updated_data = pd.concat([updated_data, ohe_data], axis=1).drop(['Type'],axis=1)"
   ]
  },
  {
   "cell_type": "code",
   "execution_count": 17,
   "id": "502f205e",
   "metadata": {},
   "outputs": [
    {
     "data": {
      "text/html": [
       "<div>\n",
       "<style scoped>\n",
       "    .dataframe tbody tr th:only-of-type {\n",
       "        vertical-align: middle;\n",
       "    }\n",
       "\n",
       "    .dataframe tbody tr th {\n",
       "        vertical-align: top;\n",
       "    }\n",
       "\n",
       "    .dataframe thead th {\n",
       "        text-align: right;\n",
       "    }\n",
       "</style>\n",
       "<table border=\"1\" class=\"dataframe\">\n",
       "  <thead>\n",
       "    <tr style=\"text-align: right;\">\n",
       "      <th></th>\n",
       "      <th>Cement</th>\n",
       "      <th>Blast_Furnace_Slag</th>\n",
       "      <th>Fly_Ash</th>\n",
       "      <th>Water</th>\n",
       "      <th>Superplasticizer</th>\n",
       "      <th>Coarse_Aggregate</th>\n",
       "      <th>Fine_Aggregate</th>\n",
       "      <th>Age</th>\n",
       "      <th>Concrete_compressive_strength</th>\n",
       "      <th>x0_A</th>\n",
       "      <th>x0_B</th>\n",
       "    </tr>\n",
       "  </thead>\n",
       "  <tbody>\n",
       "    <tr>\n",
       "      <th>0</th>\n",
       "      <td>540.0</td>\n",
       "      <td>0.0</td>\n",
       "      <td>0.00000</td>\n",
       "      <td>162.0</td>\n",
       "      <td>2.5</td>\n",
       "      <td>1040.0</td>\n",
       "      <td>676.0</td>\n",
       "      <td>28</td>\n",
       "      <td>79.986111</td>\n",
       "      <td>0.0</td>\n",
       "      <td>1.0</td>\n",
       "    </tr>\n",
       "    <tr>\n",
       "      <th>1</th>\n",
       "      <td>540.0</td>\n",
       "      <td>0.0</td>\n",
       "      <td>54.77208</td>\n",
       "      <td>162.0</td>\n",
       "      <td>2.5</td>\n",
       "      <td>1055.0</td>\n",
       "      <td>676.0</td>\n",
       "      <td>28</td>\n",
       "      <td>61.887366</td>\n",
       "      <td>1.0</td>\n",
       "      <td>0.0</td>\n",
       "    </tr>\n",
       "    <tr>\n",
       "      <th>2</th>\n",
       "      <td>332.5</td>\n",
       "      <td>142.5</td>\n",
       "      <td>0.00000</td>\n",
       "      <td>228.0</td>\n",
       "      <td>0.0</td>\n",
       "      <td>932.0</td>\n",
       "      <td>594.0</td>\n",
       "      <td>270</td>\n",
       "      <td>40.269535</td>\n",
       "      <td>1.0</td>\n",
       "      <td>0.0</td>\n",
       "    </tr>\n",
       "    <tr>\n",
       "      <th>3</th>\n",
       "      <td>332.5</td>\n",
       "      <td>142.5</td>\n",
       "      <td>54.77208</td>\n",
       "      <td>228.0</td>\n",
       "      <td>0.0</td>\n",
       "      <td>932.0</td>\n",
       "      <td>594.0</td>\n",
       "      <td>365</td>\n",
       "      <td>41.052780</td>\n",
       "      <td>1.0</td>\n",
       "      <td>0.0</td>\n",
       "    </tr>\n",
       "    <tr>\n",
       "      <th>4</th>\n",
       "      <td>198.6</td>\n",
       "      <td>132.4</td>\n",
       "      <td>54.77208</td>\n",
       "      <td>192.0</td>\n",
       "      <td>0.0</td>\n",
       "      <td>978.4</td>\n",
       "      <td>825.5</td>\n",
       "      <td>360</td>\n",
       "      <td>44.296075</td>\n",
       "      <td>1.0</td>\n",
       "      <td>0.0</td>\n",
       "    </tr>\n",
       "    <tr>\n",
       "      <th>...</th>\n",
       "      <td>...</td>\n",
       "      <td>...</td>\n",
       "      <td>...</td>\n",
       "      <td>...</td>\n",
       "      <td>...</td>\n",
       "      <td>...</td>\n",
       "      <td>...</td>\n",
       "      <td>...</td>\n",
       "      <td>...</td>\n",
       "      <td>...</td>\n",
       "      <td>...</td>\n",
       "    </tr>\n",
       "    <tr>\n",
       "      <th>1025</th>\n",
       "      <td>276.4</td>\n",
       "      <td>116.0</td>\n",
       "      <td>90.30000</td>\n",
       "      <td>179.6</td>\n",
       "      <td>8.9</td>\n",
       "      <td>870.1</td>\n",
       "      <td>768.3</td>\n",
       "      <td>28</td>\n",
       "      <td>44.284354</td>\n",
       "      <td>1.0</td>\n",
       "      <td>0.0</td>\n",
       "    </tr>\n",
       "    <tr>\n",
       "      <th>1026</th>\n",
       "      <td>322.2</td>\n",
       "      <td>0.0</td>\n",
       "      <td>115.60000</td>\n",
       "      <td>196.0</td>\n",
       "      <td>10.4</td>\n",
       "      <td>817.9</td>\n",
       "      <td>813.4</td>\n",
       "      <td>28</td>\n",
       "      <td>31.178794</td>\n",
       "      <td>0.0</td>\n",
       "      <td>1.0</td>\n",
       "    </tr>\n",
       "    <tr>\n",
       "      <th>1027</th>\n",
       "      <td>148.5</td>\n",
       "      <td>139.4</td>\n",
       "      <td>108.60000</td>\n",
       "      <td>192.7</td>\n",
       "      <td>6.1</td>\n",
       "      <td>892.4</td>\n",
       "      <td>780.0</td>\n",
       "      <td>28</td>\n",
       "      <td>23.696601</td>\n",
       "      <td>1.0</td>\n",
       "      <td>0.0</td>\n",
       "    </tr>\n",
       "    <tr>\n",
       "      <th>1028</th>\n",
       "      <td>159.1</td>\n",
       "      <td>186.7</td>\n",
       "      <td>0.00000</td>\n",
       "      <td>175.6</td>\n",
       "      <td>11.3</td>\n",
       "      <td>989.6</td>\n",
       "      <td>788.9</td>\n",
       "      <td>28</td>\n",
       "      <td>32.768036</td>\n",
       "      <td>0.0</td>\n",
       "      <td>1.0</td>\n",
       "    </tr>\n",
       "    <tr>\n",
       "      <th>1029</th>\n",
       "      <td>260.9</td>\n",
       "      <td>100.5</td>\n",
       "      <td>78.30000</td>\n",
       "      <td>200.6</td>\n",
       "      <td>8.6</td>\n",
       "      <td>864.5</td>\n",
       "      <td>761.5</td>\n",
       "      <td>28</td>\n",
       "      <td>32.401235</td>\n",
       "      <td>1.0</td>\n",
       "      <td>0.0</td>\n",
       "    </tr>\n",
       "  </tbody>\n",
       "</table>\n",
       "<p>1030 rows × 11 columns</p>\n",
       "</div>"
      ],
      "text/plain": [
       "      Cement  Blast_Furnace_Slag    Fly_Ash  Water  Superplasticizer  \\\n",
       "0      540.0                 0.0    0.00000  162.0               2.5   \n",
       "1      540.0                 0.0   54.77208  162.0               2.5   \n",
       "2      332.5               142.5    0.00000  228.0               0.0   \n",
       "3      332.5               142.5   54.77208  228.0               0.0   \n",
       "4      198.6               132.4   54.77208  192.0               0.0   \n",
       "...      ...                 ...        ...    ...               ...   \n",
       "1025   276.4               116.0   90.30000  179.6               8.9   \n",
       "1026   322.2                 0.0  115.60000  196.0              10.4   \n",
       "1027   148.5               139.4  108.60000  192.7               6.1   \n",
       "1028   159.1               186.7    0.00000  175.6              11.3   \n",
       "1029   260.9               100.5   78.30000  200.6               8.6   \n",
       "\n",
       "      Coarse_Aggregate  Fine_Aggregate  Age  Concrete_compressive_strength  \\\n",
       "0               1040.0           676.0   28                      79.986111   \n",
       "1               1055.0           676.0   28                      61.887366   \n",
       "2                932.0           594.0  270                      40.269535   \n",
       "3                932.0           594.0  365                      41.052780   \n",
       "4                978.4           825.5  360                      44.296075   \n",
       "...                ...             ...  ...                            ...   \n",
       "1025             870.1           768.3   28                      44.284354   \n",
       "1026             817.9           813.4   28                      31.178794   \n",
       "1027             892.4           780.0   28                      23.696601   \n",
       "1028             989.6           788.9   28                      32.768036   \n",
       "1029             864.5           761.5   28                      32.401235   \n",
       "\n",
       "      x0_A  x0_B  \n",
       "0      0.0   1.0  \n",
       "1      1.0   0.0  \n",
       "2      1.0   0.0  \n",
       "3      1.0   0.0  \n",
       "4      1.0   0.0  \n",
       "...    ...   ...  \n",
       "1025   1.0   0.0  \n",
       "1026   0.0   1.0  \n",
       "1027   1.0   0.0  \n",
       "1028   0.0   1.0  \n",
       "1029   1.0   0.0  \n",
       "\n",
       "[1030 rows x 11 columns]"
      ]
     },
     "execution_count": 17,
     "metadata": {},
     "output_type": "execute_result"
    }
   ],
   "source": [
    "updated_data"
   ]
  },
  {
   "cell_type": "markdown",
   "id": "a36e7780",
   "metadata": {},
   "source": [
    "# Detect outliers"
   ]
  },
  {
   "cell_type": "code",
   "execution_count": 18,
   "id": "d10c2caf",
   "metadata": {},
   "outputs": [
    {
     "data": {
      "text/plain": [
       "Index(['Cement', 'Blast_Furnace_Slag', 'Fly_Ash', 'Water', 'Superplasticizer',\n",
       "       'Coarse_Aggregate', 'Fine_Aggregate', 'Age',\n",
       "       'Concrete_compressive_strength', 'x0_A', 'x0_B'],\n",
       "      dtype='object')"
      ]
     },
     "execution_count": 18,
     "metadata": {},
     "output_type": "execute_result"
    }
   ],
   "source": [
    "updated_data.columns"
   ]
  },
  {
   "cell_type": "code",
   "execution_count": 19,
   "id": "c60e1213",
   "metadata": {},
   "outputs": [
    {
     "data": {
      "text/plain": [
       "<AxesSubplot:ylabel='Cement'>"
      ]
     },
     "execution_count": 19,
     "metadata": {},
     "output_type": "execute_result"
    },
    {
     "data": {
      "image/png": "[encoded data removed]",
      "text/plain": [
       "<Figure size 400x800 with 1 Axes>"
      ]
     },
     "metadata": {},
     "output_type": "display_data"
    }
   ],
   "source": [
    "import matplotlib.pyplot as plt\n",
    "import seaborn as sns\n",
    "plt.figure(figsize = (4,8))\n",
    "sns.boxplot(y = updated_data.Cement)"
   ]
  },
  {
   "cell_type": "code",
   "execution_count": 20,
   "id": "9c6ec529",
   "metadata": {},
   "outputs": [
    {
     "data": {
      "text/plain": [
       "<AxesSubplot:ylabel='Blast_Furnace_Slag'>"
      ]
     },
     "execution_count": 20,
     "metadata": {},
     "output_type": "execute_result"
    },
    {
     "data": {
      "image/png": "[encoded data removed]",
      "text/plain": [
       "<Figure size 640x480 with 1 Axes>"
      ]
     },
     "metadata": {},
     "output_type": "display_data"
    }
   ],
   "source": [
    "sns.boxplot(y = updated_data.Blast_Furnace_Slag)"
   ]
  },
  {
   "cell_type": "code",
   "execution_count": 21,
   "id": "2a641d13",
   "metadata": {},
   "outputs": [
    {
     "data": {
      "text/plain": [
       "<AxesSubplot:ylabel='Fly_Ash'>"
      ]
     },
     "execution_count": 21,
     "metadata": {},
     "output_type": "execute_result"
    },
    {
     "data": {
      "image/png": "[encoded data removed]",
      "text/plain": [
       "<Figure size 640x480 with 1 Axes>"
      ]
     },
     "metadata": {},
     "output_type": "display_data"
    }
   ],
   "source": [
    "sns.boxplot(y = updated_data.Fly_Ash)"
   ]
  },
  {
   "cell_type": "code",
   "execution_count": 22,
   "id": "09f548bd",
   "metadata": {},
   "outputs": [
    {
     "data": {
      "text/plain": [
       "<AxesSubplot:ylabel='Water'>"
      ]
     },
     "execution_count": 22,
     "metadata": {},
     "output_type": "execute_result"
    },
    {
     "data": {
      "image/png": "[encoded data removed]",
      "text/plain": [
       "<Figure size 640x480 with 1 Axes>"
      ]
     },
     "metadata": {},
     "output_type": "display_data"
    }
   ],
   "source": [
    "sns.boxplot(y = updated_data.Water)"
   ]
  },
  {
   "cell_type": "code",
   "execution_count": 23,
   "id": "fba2f5a7",
   "metadata": {},
   "outputs": [
    {
     "data": {
      "text/plain": [
       "<AxesSubplot:ylabel='Superplasticizer'>"
      ]
     },
     "execution_count": 23,
     "metadata": {},
     "output_type": "execute_result"
    },
    {
     "data": {
      "image/png": "[encoded data removed]",
      "text/plain": [
       "<Figure size 640x480 with 1 Axes>"
      ]
     },
     "metadata": {},
     "output_type": "display_data"
    }
   ],
   "source": [
    "sns.boxplot(y = updated_data.Superplasticizer)"
   ]
  },
  {
   "cell_type": "code",
   "execution_count": 24,
   "id": "2e95dea2",
   "metadata": {},
   "outputs": [
    {
     "data": {
      "text/plain": [
       "<AxesSubplot:ylabel='Coarse_Aggregate'>"
      ]
     },
     "execution_count": 24,
     "metadata": {},
     "output_type": "execute_result"
    },
    {
     "data": {
      "image/png": "[encoded data removed]",
      "text/plain": [
       "<Figure size 640x480 with 1 Axes>"
      ]
     },
     "metadata": {},
     "output_type": "display_data"
    }
   ],
   "source": [
    "sns.boxplot(y = updated_data.Coarse_Aggregate)"
   ]
  },
  {
   "cell_type": "code",
   "execution_count": 25,
   "id": "a162ac97",
   "metadata": {},
   "outputs": [
    {
     "data": {
      "text/plain": [
       "<AxesSubplot:ylabel='Fine_Aggregate'>"
      ]
     },
     "execution_count": 25,
     "metadata": {},
     "output_type": "execute_result"
    },
    {
     "data": {
      "image/png": "[encoded data removed]",
      "text/plain": [
       "<Figure size 640x480 with 1 Axes>"
      ]
     },
     "metadata": {},
     "output_type": "display_data"
    }
   ],
   "source": [
    "sns.boxplot(y = updated_data.Fine_Aggregate)"
   ]
  },
  {
   "cell_type": "markdown",
   "id": "39834b4b",
   "metadata": {},
   "source": [
    "# Eliminate Outliers\n",
    "\n"
   ]
  },
  {
   "cell_type": "markdown",
   "id": "b07eaf93",
   "metadata": {},
   "source": [
    "IQR Method"
   ]
  },
  {
   "cell_type": "code",
   "execution_count": 26,
   "id": "c1f5df3a",
   "metadata": {},
   "outputs": [],
   "source": [
    "def out_iqr(data,column):\n",
    "    global lower, upper\n",
    "    q25, q75 = np.quantile(data[column], 0.25), np.quantile(data[column], 0.75)\n",
    "    iqr = q75 - q25\n",
    "    cut_off = iqr * 1.5\n",
    "    lower, upper = q25 - cut_off, q75 + cut_off\n",
    "    print('The IQR is', iqr)\n",
    "    print('The lower bound value is', lower)\n",
    "    print('The upper bound value is', upper)\n",
    "    data1 = data[data[column] > upper]\n",
    "    data2 = data[data[column] < lower]\n",
    "    return print('Total number of outliers are', data1.shape[0] + data2.shape[0])"
   ]
  },
  {
   "cell_type": "code",
   "execution_count": 27,
   "id": "e9e502e8",
   "metadata": {},
   "outputs": [
    {
     "name": "stdout",
     "output_type": "stream",
     "text": [
      "\n",
      "Cement\n",
      "The IQR is 157.625\n",
      "The lower bound value is -44.0625\n",
      "The upper bound value is 586.4375\n",
      "Total number of outliers are 0\n",
      "\n",
      "Blast_Furnace_Slag\n",
      "The IQR is 142.95\n",
      "The lower bound value is -214.42499999999998\n",
      "The upper bound value is 357.375\n",
      "Total number of outliers are 2\n",
      "\n",
      "Fly_Ash\n",
      "The IQR is 118.27\n",
      "The lower bound value is -177.405\n",
      "The upper bound value is 295.675\n",
      "Total number of outliers are 0\n",
      "\n",
      "Water\n",
      "The IQR is 27.099999999999994\n",
      "The lower bound value is 124.25000000000001\n",
      "The upper bound value is 232.64999999999998\n",
      "Total number of outliers are 9\n",
      "\n",
      "Superplasticizer\n",
      "The IQR is 10.16\n",
      "The lower bound value is -15.24\n",
      "The upper bound value is 25.4\n",
      "Total number of outliers are 10\n",
      "\n",
      "Coarse_Aggregate\n",
      "The IQR is 97.40000000000009\n",
      "The lower bound value is 785.8999999999999\n",
      "The upper bound value is 1175.5000000000002\n",
      "Total number of outliers are 0\n",
      "\n",
      "Fine_Aggregate\n",
      "The IQR is 93.04999999999995\n",
      "The lower bound value is 591.3750000000001\n",
      "The upper bound value is 963.5749999999999\n",
      "Total number of outliers are 5\n",
      "\n",
      "Age\n",
      "The IQR is 49.0\n",
      "The lower bound value is -66.5\n",
      "The upper bound value is 129.5\n",
      "Total number of outliers are 59\n",
      "\n",
      "Concrete_compressive_strength\n",
      "The IQR is 22.42917139\n",
      "The lower bound value is -9.936641935000004\n",
      "The upper bound value is 79.780043625\n",
      "Total number of outliers are 4\n",
      "\n",
      "x0_A\n",
      "The IQR is 1.0\n",
      "The lower bound value is -1.5\n",
      "The upper bound value is 2.5\n",
      "Total number of outliers are 0\n",
      "\n",
      "x0_B\n",
      "The IQR is 1.0\n",
      "The lower bound value is -1.5\n",
      "The upper bound value is 2.5\n",
      "Total number of outliers are 0\n"
     ]
    }
   ],
   "source": [
    "updated_old = updated_data.copy()\n",
    "updated_data2 = updated_data.copy()\n",
    "for i in updated_data.columns:\n",
    "    print('\\n'+i)\n",
    "    out_iqr(updated_data,i)\n",
    "    updated_data2 = updated_data2[(updated_data2[i] < upper) & (updated_data2[i] > lower)]"
   ]
  },
  {
   "cell_type": "code",
   "execution_count": 28,
   "id": "98085463",
   "metadata": {},
   "outputs": [
    {
     "data": {
      "text/plain": [
       "(1030, 11)"
      ]
     },
     "execution_count": 28,
     "metadata": {},
     "output_type": "execute_result"
    }
   ],
   "source": [
    "updated_old.shape\n"
   ]
  },
  {
   "cell_type": "code",
   "execution_count": 29,
   "id": "60fba97f",
   "metadata": {},
   "outputs": [
    {
     "data": {
      "text/plain": [
       "(941, 11)"
      ]
     },
     "execution_count": 29,
     "metadata": {},
     "output_type": "execute_result"
    }
   ],
   "source": [
    "updated_data2.shape"
   ]
  },
  {
   "cell_type": "markdown",
   "id": "e2b26f1b",
   "metadata": {},
   "source": [
    "# Standard Deviation Method"
   ]
  },
  {
   "cell_type": "code",
   "execution_count": 32,
   "id": "a6ed8d06",
   "metadata": {},
   "outputs": [],
   "source": [
    "def out_std(data, column):\n",
    "    global lower, upper\n",
    "    #calculate the mean and standard deviation\n",
    "    data_mean, data_std = data[column].mean(), data[column].std()\n",
    "    #calculate the cutoff value\n",
    "    cut_off = data_std*3\n",
    "    #calculate the lower and upper bound value\n",
    "    lower, upper = data_mean - cut_off, data_mean + cut_off\n",
    "    print('The lower bound value is', lower)\n",
    "    print('The upper bound value is', upper)\n",
    "    #Calculate the number of records below and above lower and above bound value respectively\n",
    "    data1 = data[data[column] > upper]\n",
    "    data2 = data[data[column] < lower]\n",
    "    return print('Total number of outliers are', data1.shape[0] + data2.shape[0])"
   ]
  },
  {
   "cell_type": "code",
   "execution_count": 33,
   "id": "e63ba000",
   "metadata": {},
   "outputs": [
    {
     "name": "stdout",
     "output_type": "stream",
     "text": [
      "\n",
      "Cement\n",
      "The lower bound value is -32.09826321468569\n",
      "The upper bound value is 593.5920927935297\n",
      "Total number of outliers are 0\n",
      "\n",
      "Blast_Furnace_Slag\n",
      "The lower bound value is -184.94182549261313\n",
      "The upper bound value is 332.7327963663996\n",
      "Total number of outliers are 4\n",
      "\n",
      "Fly_Ash\n",
      "The lower bound value is -136.4722328655336\n",
      "The upper bound value is 246.01639380763373\n",
      "Total number of outliers are 0\n",
      "\n",
      "Water\n",
      "The lower bound value is 118.56144748861495\n",
      "The upper bound value is 244.2897816165962\n",
      "Total number of outliers are 2\n",
      "\n",
      "Superplasticizer\n",
      "The lower bound value is -11.591334767283769\n",
      "The upper bound value is 24.098062922623576\n",
      "Total number of outliers are 10\n",
      "\n",
      "Coarse_Aggregate\n",
      "The lower bound value is 739.6571379576412\n",
      "The upper bound value is 1206.1800465083775\n",
      "Total number of outliers are 0\n",
      "\n",
      "Fine_Aggregate\n",
      "The lower bound value is 533.0526012980729\n",
      "The upper bound value is 1014.1051656922157\n",
      "Total number of outliers are 0\n",
      "\n",
      "Age\n",
      "The lower bound value is -143.84759882076938\n",
      "The upper bound value is 235.17187066542957\n",
      "Total number of outliers are 33\n",
      "\n",
      "Concrete_compressive_strength\n",
      "The lower bound value is -14.299201698359028\n",
      "The upper bound value is 85.93487335060375\n",
      "Total number of outliers are 0\n",
      "\n",
      "x0_A\n",
      "The lower bound value is -0.9769012154772571\n",
      "The upper bound value is 2.0215614096520143\n",
      "Total number of outliers are 0\n",
      "\n",
      "x0_B\n",
      "The lower bound value is -1.0215614096520143\n",
      "The upper bound value is 1.9769012154772572\n",
      "Total number of outliers are 0\n"
     ]
    }
   ],
   "source": [
    "updated_data3 = updated_data.copy()\n",
    "for i in updated_data.columns:\n",
    "    print(\"\\n\"+i)\n",
    "    out_std(updated_data, i)\n",
    "    updated_data3 = updated_data3[(updated_data3[i] < upper) & (updated_data3[i] > lower)]"
   ]
  },
  {
   "cell_type": "code",
   "execution_count": 34,
   "id": "5ee7e081",
   "metadata": {},
   "outputs": [
    {
     "data": {
      "text/plain": [
       "(1030, 11)"
      ]
     },
     "execution_count": 34,
     "metadata": {},
     "output_type": "execute_result"
    }
   ],
   "source": [
    "updated_old.shape"
   ]
  },
  {
   "cell_type": "code",
   "execution_count": 35,
   "id": "31ce667e",
   "metadata": {},
   "outputs": [
    {
     "data": {
      "text/plain": [
       "(981, 11)"
      ]
     },
     "execution_count": 35,
     "metadata": {},
     "output_type": "execute_result"
    }
   ],
   "source": [
    "updated_data3.shape"
   ]
  },
  {
   "cell_type": "markdown",
   "id": "9354a3e3",
   "metadata": {},
   "source": [
    "# Dividing Dataset for x and y values"
   ]
  },
  {
   "cell_type": "code",
   "execution_count": 36,
   "id": "06f705b5",
   "metadata": {},
   "outputs": [],
   "source": [
    "x = updated_data3.drop(['Concrete_compressive_strength'],axis=1)\n",
    "y = updated_data3['Concrete_compressive_strength']"
   ]
  },
  {
   "cell_type": "code",
   "execution_count": 37,
   "id": "ad3a07aa",
   "metadata": {},
   "outputs": [
    {
     "data": {
      "text/html": [
       "<div>\n",
       "<style scoped>\n",
       "    .dataframe tbody tr th:only-of-type {\n",
       "        vertical-align: middle;\n",
       "    }\n",
       "\n",
       "    .dataframe tbody tr th {\n",
       "        vertical-align: top;\n",
       "    }\n",
       "\n",
       "    .dataframe thead th {\n",
       "        text-align: right;\n",
       "    }\n",
       "</style>\n",
       "<table border=\"1\" class=\"dataframe\">\n",
       "  <thead>\n",
       "    <tr style=\"text-align: right;\">\n",
       "      <th></th>\n",
       "      <th>Cement</th>\n",
       "      <th>Blast_Furnace_Slag</th>\n",
       "      <th>Fly_Ash</th>\n",
       "      <th>Water</th>\n",
       "      <th>Superplasticizer</th>\n",
       "      <th>Coarse_Aggregate</th>\n",
       "      <th>Fine_Aggregate</th>\n",
       "      <th>Age</th>\n",
       "      <th>x0_A</th>\n",
       "      <th>x0_B</th>\n",
       "    </tr>\n",
       "  </thead>\n",
       "  <tbody>\n",
       "    <tr>\n",
       "      <th>0</th>\n",
       "      <td>540.0</td>\n",
       "      <td>0.0</td>\n",
       "      <td>0.00000</td>\n",
       "      <td>162.0</td>\n",
       "      <td>2.5</td>\n",
       "      <td>1040.0</td>\n",
       "      <td>676.0</td>\n",
       "      <td>28</td>\n",
       "      <td>0.0</td>\n",
       "      <td>1.0</td>\n",
       "    </tr>\n",
       "    <tr>\n",
       "      <th>1</th>\n",
       "      <td>540.0</td>\n",
       "      <td>0.0</td>\n",
       "      <td>54.77208</td>\n",
       "      <td>162.0</td>\n",
       "      <td>2.5</td>\n",
       "      <td>1055.0</td>\n",
       "      <td>676.0</td>\n",
       "      <td>28</td>\n",
       "      <td>1.0</td>\n",
       "      <td>0.0</td>\n",
       "    </tr>\n",
       "    <tr>\n",
       "      <th>5</th>\n",
       "      <td>266.0</td>\n",
       "      <td>114.0</td>\n",
       "      <td>54.77208</td>\n",
       "      <td>228.0</td>\n",
       "      <td>0.0</td>\n",
       "      <td>932.0</td>\n",
       "      <td>670.0</td>\n",
       "      <td>90</td>\n",
       "      <td>1.0</td>\n",
       "      <td>0.0</td>\n",
       "    </tr>\n",
       "    <tr>\n",
       "      <th>7</th>\n",
       "      <td>380.0</td>\n",
       "      <td>95.0</td>\n",
       "      <td>54.77208</td>\n",
       "      <td>228.0</td>\n",
       "      <td>0.0</td>\n",
       "      <td>932.0</td>\n",
       "      <td>594.0</td>\n",
       "      <td>28</td>\n",
       "      <td>0.0</td>\n",
       "      <td>1.0</td>\n",
       "    </tr>\n",
       "    <tr>\n",
       "      <th>8</th>\n",
       "      <td>266.0</td>\n",
       "      <td>114.0</td>\n",
       "      <td>54.77208</td>\n",
       "      <td>228.0</td>\n",
       "      <td>0.0</td>\n",
       "      <td>932.0</td>\n",
       "      <td>670.0</td>\n",
       "      <td>28</td>\n",
       "      <td>0.0</td>\n",
       "      <td>1.0</td>\n",
       "    </tr>\n",
       "    <tr>\n",
       "      <th>...</th>\n",
       "      <td>...</td>\n",
       "      <td>...</td>\n",
       "      <td>...</td>\n",
       "      <td>...</td>\n",
       "      <td>...</td>\n",
       "      <td>...</td>\n",
       "      <td>...</td>\n",
       "      <td>...</td>\n",
       "      <td>...</td>\n",
       "      <td>...</td>\n",
       "    </tr>\n",
       "    <tr>\n",
       "      <th>1025</th>\n",
       "      <td>276.4</td>\n",
       "      <td>116.0</td>\n",
       "      <td>90.30000</td>\n",
       "      <td>179.6</td>\n",
       "      <td>8.9</td>\n",
       "      <td>870.1</td>\n",
       "      <td>768.3</td>\n",
       "      <td>28</td>\n",
       "      <td>1.0</td>\n",
       "      <td>0.0</td>\n",
       "    </tr>\n",
       "    <tr>\n",
       "      <th>1026</th>\n",
       "      <td>322.2</td>\n",
       "      <td>0.0</td>\n",
       "      <td>115.60000</td>\n",
       "      <td>196.0</td>\n",
       "      <td>10.4</td>\n",
       "      <td>817.9</td>\n",
       "      <td>813.4</td>\n",
       "      <td>28</td>\n",
       "      <td>0.0</td>\n",
       "      <td>1.0</td>\n",
       "    </tr>\n",
       "    <tr>\n",
       "      <th>1027</th>\n",
       "      <td>148.5</td>\n",
       "      <td>139.4</td>\n",
       "      <td>108.60000</td>\n",
       "      <td>192.7</td>\n",
       "      <td>6.1</td>\n",
       "      <td>892.4</td>\n",
       "      <td>780.0</td>\n",
       "      <td>28</td>\n",
       "      <td>1.0</td>\n",
       "      <td>0.0</td>\n",
       "    </tr>\n",
       "    <tr>\n",
       "      <th>1028</th>\n",
       "      <td>159.1</td>\n",
       "      <td>186.7</td>\n",
       "      <td>0.00000</td>\n",
       "      <td>175.6</td>\n",
       "      <td>11.3</td>\n",
       "      <td>989.6</td>\n",
       "      <td>788.9</td>\n",
       "      <td>28</td>\n",
       "      <td>0.0</td>\n",
       "      <td>1.0</td>\n",
       "    </tr>\n",
       "    <tr>\n",
       "      <th>1029</th>\n",
       "      <td>260.9</td>\n",
       "      <td>100.5</td>\n",
       "      <td>78.30000</td>\n",
       "      <td>200.6</td>\n",
       "      <td>8.6</td>\n",
       "      <td>864.5</td>\n",
       "      <td>761.5</td>\n",
       "      <td>28</td>\n",
       "      <td>1.0</td>\n",
       "      <td>0.0</td>\n",
       "    </tr>\n",
       "  </tbody>\n",
       "</table>\n",
       "<p>981 rows × 10 columns</p>\n",
       "</div>"
      ],
      "text/plain": [
       "      Cement  Blast_Furnace_Slag    Fly_Ash  Water  Superplasticizer  \\\n",
       "0      540.0                 0.0    0.00000  162.0               2.5   \n",
       "1      540.0                 0.0   54.77208  162.0               2.5   \n",
       "5      266.0               114.0   54.77208  228.0               0.0   \n",
       "7      380.0                95.0   54.77208  228.0               0.0   \n",
       "8      266.0               114.0   54.77208  228.0               0.0   \n",
       "...      ...                 ...        ...    ...               ...   \n",
       "1025   276.4               116.0   90.30000  179.6               8.9   \n",
       "1026   322.2                 0.0  115.60000  196.0              10.4   \n",
       "1027   148.5               139.4  108.60000  192.7               6.1   \n",
       "1028   159.1               186.7    0.00000  175.6              11.3   \n",
       "1029   260.9               100.5   78.30000  200.6               8.6   \n",
       "\n",
       "      Coarse_Aggregate  Fine_Aggregate  Age  x0_A  x0_B  \n",
       "0               1040.0           676.0   28   0.0   1.0  \n",
       "1               1055.0           676.0   28   1.0   0.0  \n",
       "5                932.0           670.0   90   1.0   0.0  \n",
       "7                932.0           594.0   28   0.0   1.0  \n",
       "8                932.0           670.0   28   0.0   1.0  \n",
       "...                ...             ...  ...   ...   ...  \n",
       "1025             870.1           768.3   28   1.0   0.0  \n",
       "1026             817.9           813.4   28   0.0   1.0  \n",
       "1027             892.4           780.0   28   1.0   0.0  \n",
       "1028             989.6           788.9   28   0.0   1.0  \n",
       "1029             864.5           761.5   28   1.0   0.0  \n",
       "\n",
       "[981 rows x 10 columns]"
      ]
     },
     "execution_count": 37,
     "metadata": {},
     "output_type": "execute_result"
    }
   ],
   "source": [
    "x"
   ]
  },
  {
   "cell_type": "code",
   "execution_count": 38,
   "id": "bafaea8c",
   "metadata": {},
   "outputs": [
    {
     "data": {
      "text/plain": [
       "0       79.986111\n",
       "1       61.887366\n",
       "5       47.029847\n",
       "7       36.447770\n",
       "8       45.854291\n",
       "          ...    \n",
       "1025    44.284354\n",
       "1026    31.178794\n",
       "1027    23.696601\n",
       "1028    32.768036\n",
       "1029    32.401235\n",
       "Name: Concrete_compressive_strength, Length: 981, dtype: float64"
      ]
     },
     "execution_count": 38,
     "metadata": {},
     "output_type": "execute_result"
    }
   ],
   "source": [
    "y"
   ]
  },
  {
   "cell_type": "markdown",
   "id": "f92f9b43",
   "metadata": {},
   "source": [
    "# Normalize Data"
   ]
  },
  {
   "cell_type": "code",
   "execution_count": 39,
   "id": "429b8b37",
   "metadata": {},
   "outputs": [],
   "source": [
    "from sklearn.preprocessing import StandardScaler\n",
    "scaler = StandardScaler()\n",
    "updated_data3[['Cement','Blast_Furnace_Slag','Fly_Ash','Water','Superplasticizer','Coarse_Aggregate','Fine_Aggregate','Age','x0_A','x0_B']] = scaler.fit_transform(x)"
   ]
  },
  {
   "cell_type": "code",
   "execution_count": 40,
   "id": "662278a7",
   "metadata": {},
   "outputs": [
    {
     "data": {
      "text/html": [
       "<div>\n",
       "<style scoped>\n",
       "    .dataframe tbody tr th:only-of-type {\n",
       "        vertical-align: middle;\n",
       "    }\n",
       "\n",
       "    .dataframe tbody tr th {\n",
       "        vertical-align: top;\n",
       "    }\n",
       "\n",
       "    .dataframe thead th {\n",
       "        text-align: right;\n",
       "    }\n",
       "</style>\n",
       "<table border=\"1\" class=\"dataframe\">\n",
       "  <thead>\n",
       "    <tr style=\"text-align: right;\">\n",
       "      <th></th>\n",
       "      <th>Cement</th>\n",
       "      <th>Blast_Furnace_Slag</th>\n",
       "      <th>Fly_Ash</th>\n",
       "      <th>Water</th>\n",
       "      <th>Superplasticizer</th>\n",
       "      <th>Coarse_Aggregate</th>\n",
       "      <th>Fine_Aggregate</th>\n",
       "      <th>Age</th>\n",
       "      <th>Concrete_compressive_strength</th>\n",
       "      <th>x0_A</th>\n",
       "      <th>x0_B</th>\n",
       "    </tr>\n",
       "  </thead>\n",
       "  <tbody>\n",
       "    <tr>\n",
       "      <th>0</th>\n",
       "      <td>2.566139</td>\n",
       "      <td>-0.858513</td>\n",
       "      <td>-0.888430</td>\n",
       "      <td>-0.940842</td>\n",
       "      <td>-0.681721</td>\n",
       "      <td>0.839767</td>\n",
       "      <td>-1.288495</td>\n",
       "      <td>-0.229254</td>\n",
       "      <td>79.986111</td>\n",
       "      <td>-1.034224</td>\n",
       "      <td>1.034224</td>\n",
       "    </tr>\n",
       "    <tr>\n",
       "      <th>1</th>\n",
       "      <td>2.566139</td>\n",
       "      <td>-0.858513</td>\n",
       "      <td>-0.035974</td>\n",
       "      <td>-0.940842</td>\n",
       "      <td>-0.681721</td>\n",
       "      <td>1.032755</td>\n",
       "      <td>-1.288495</td>\n",
       "      <td>-0.229254</td>\n",
       "      <td>61.887366</td>\n",
       "      <td>0.966908</td>\n",
       "      <td>-0.966908</td>\n",
       "    </tr>\n",
       "    <tr>\n",
       "      <th>5</th>\n",
       "      <td>-0.109575</td>\n",
       "      <td>0.480237</td>\n",
       "      <td>-0.035974</td>\n",
       "      <td>2.377412</td>\n",
       "      <td>-1.139148</td>\n",
       "      <td>-0.549743</td>\n",
       "      <td>-1.365803</td>\n",
       "      <td>1.453139</td>\n",
       "      <td>47.029847</td>\n",
       "      <td>0.966908</td>\n",
       "      <td>-0.966908</td>\n",
       "    </tr>\n",
       "    <tr>\n",
       "      <th>7</th>\n",
       "      <td>1.003678</td>\n",
       "      <td>0.257112</td>\n",
       "      <td>-0.035974</td>\n",
       "      <td>2.377412</td>\n",
       "      <td>-1.139148</td>\n",
       "      <td>-0.549743</td>\n",
       "      <td>-2.345037</td>\n",
       "      <td>-0.229254</td>\n",
       "      <td>36.447770</td>\n",
       "      <td>-1.034224</td>\n",
       "      <td>1.034224</td>\n",
       "    </tr>\n",
       "    <tr>\n",
       "      <th>8</th>\n",
       "      <td>-0.109575</td>\n",
       "      <td>0.480237</td>\n",
       "      <td>-0.035974</td>\n",
       "      <td>2.377412</td>\n",
       "      <td>-1.139148</td>\n",
       "      <td>-0.549743</td>\n",
       "      <td>-1.365803</td>\n",
       "      <td>-0.229254</td>\n",
       "      <td>45.854291</td>\n",
       "      <td>-1.034224</td>\n",
       "      <td>1.034224</td>\n",
       "    </tr>\n",
       "    <tr>\n",
       "      <th>...</th>\n",
       "      <td>...</td>\n",
       "      <td>...</td>\n",
       "      <td>...</td>\n",
       "      <td>...</td>\n",
       "      <td>...</td>\n",
       "      <td>...</td>\n",
       "      <td>...</td>\n",
       "      <td>...</td>\n",
       "      <td>...</td>\n",
       "      <td>...</td>\n",
       "      <td>...</td>\n",
       "    </tr>\n",
       "    <tr>\n",
       "      <th>1025</th>\n",
       "      <td>-0.008015</td>\n",
       "      <td>0.503724</td>\n",
       "      <td>0.516972</td>\n",
       "      <td>-0.055975</td>\n",
       "      <td>0.489292</td>\n",
       "      <td>-1.346138</td>\n",
       "      <td>-0.099241</td>\n",
       "      <td>-0.229254</td>\n",
       "      <td>44.284354</td>\n",
       "      <td>0.966908</td>\n",
       "      <td>-0.966908</td>\n",
       "    </tr>\n",
       "    <tr>\n",
       "      <th>1026</th>\n",
       "      <td>0.439240</td>\n",
       "      <td>-0.858513</td>\n",
       "      <td>0.910734</td>\n",
       "      <td>0.768561</td>\n",
       "      <td>0.763748</td>\n",
       "      <td>-2.017735</td>\n",
       "      <td>0.481857</td>\n",
       "      <td>-0.229254</td>\n",
       "      <td>31.178794</td>\n",
       "      <td>-1.034224</td>\n",
       "      <td>1.034224</td>\n",
       "    </tr>\n",
       "    <tr>\n",
       "      <th>1027</th>\n",
       "      <td>-1.257006</td>\n",
       "      <td>0.778520</td>\n",
       "      <td>0.801788</td>\n",
       "      <td>0.602649</td>\n",
       "      <td>-0.023026</td>\n",
       "      <td>-1.059230</td>\n",
       "      <td>0.051509</td>\n",
       "      <td>-0.229254</td>\n",
       "      <td>23.696601</td>\n",
       "      <td>0.966908</td>\n",
       "      <td>-0.966908</td>\n",
       "    </tr>\n",
       "    <tr>\n",
       "      <th>1028</th>\n",
       "      <td>-1.153493</td>\n",
       "      <td>1.333983</td>\n",
       "      <td>-0.888430</td>\n",
       "      <td>-0.257081</td>\n",
       "      <td>0.928422</td>\n",
       "      <td>0.191329</td>\n",
       "      <td>0.166183</td>\n",
       "      <td>-0.229254</td>\n",
       "      <td>32.768036</td>\n",
       "      <td>-1.034224</td>\n",
       "      <td>1.034224</td>\n",
       "    </tr>\n",
       "    <tr>\n",
       "      <th>1029</th>\n",
       "      <td>-0.159378</td>\n",
       "      <td>0.321701</td>\n",
       "      <td>0.330208</td>\n",
       "      <td>0.999833</td>\n",
       "      <td>0.434401</td>\n",
       "      <td>-1.418187</td>\n",
       "      <td>-0.186857</td>\n",
       "      <td>-0.229254</td>\n",
       "      <td>32.401235</td>\n",
       "      <td>0.966908</td>\n",
       "      <td>-0.966908</td>\n",
       "    </tr>\n",
       "  </tbody>\n",
       "</table>\n",
       "<p>981 rows × 11 columns</p>\n",
       "</div>"
      ],
      "text/plain": [
       "        Cement  Blast_Furnace_Slag   Fly_Ash     Water  Superplasticizer  \\\n",
       "0     2.566139           -0.858513 -0.888430 -0.940842         -0.681721   \n",
       "1     2.566139           -0.858513 -0.035974 -0.940842         -0.681721   \n",
       "5    -0.109575            0.480237 -0.035974  2.377412         -1.139148   \n",
       "7     1.003678            0.257112 -0.035974  2.377412         -1.139148   \n",
       "8    -0.109575            0.480237 -0.035974  2.377412         -1.139148   \n",
       "...        ...                 ...       ...       ...               ...   \n",
       "1025 -0.008015            0.503724  0.516972 -0.055975          0.489292   \n",
       "1026  0.439240           -0.858513  0.910734  0.768561          0.763748   \n",
       "1027 -1.257006            0.778520  0.801788  0.602649         -0.023026   \n",
       "1028 -1.153493            1.333983 -0.888430 -0.257081          0.928422   \n",
       "1029 -0.159378            0.321701  0.330208  0.999833          0.434401   \n",
       "\n",
       "      Coarse_Aggregate  Fine_Aggregate       Age  \\\n",
       "0             0.839767       -1.288495 -0.229254   \n",
       "1             1.032755       -1.288495 -0.229254   \n",
       "5            -0.549743       -1.365803  1.453139   \n",
       "7            -0.549743       -2.345037 -0.229254   \n",
       "8            -0.549743       -1.365803 -0.229254   \n",
       "...                ...             ...       ...   \n",
       "1025         -1.346138       -0.099241 -0.229254   \n",
       "1026         -2.017735        0.481857 -0.229254   \n",
       "1027         -1.059230        0.051509 -0.229254   \n",
       "1028          0.191329        0.166183 -0.229254   \n",
       "1029         -1.418187       -0.186857 -0.229254   \n",
       "\n",
       "      Concrete_compressive_strength      x0_A      x0_B  \n",
       "0                         79.986111 -1.034224  1.034224  \n",
       "1                         61.887366  0.966908 -0.966908  \n",
       "5                         47.029847  0.966908 -0.966908  \n",
       "7                         36.447770 -1.034224  1.034224  \n",
       "8                         45.854291 -1.034224  1.034224  \n",
       "...                             ...       ...       ...  \n",
       "1025                      44.284354  0.966908 -0.966908  \n",
       "1026                      31.178794 -1.034224  1.034224  \n",
       "1027                      23.696601  0.966908 -0.966908  \n",
       "1028                      32.768036 -1.034224  1.034224  \n",
       "1029                      32.401235  0.966908 -0.966908  \n",
       "\n",
       "[981 rows x 11 columns]"
      ]
     },
     "execution_count": 40,
     "metadata": {},
     "output_type": "execute_result"
    }
   ],
   "source": [
    "updated_data3"
   ]
  },
  {
   "cell_type": "markdown",
   "id": "580ad0b0",
   "metadata": {},
   "source": [
    "# Feature Selection\n",
    "\n",
    "\n",
    "# Correlation Matrix"
   ]
  },
  {
   "cell_type": "code",
   "execution_count": 41,
   "id": "90c9ac19",
   "metadata": {},
   "outputs": [
    {
     "data": {
      "image/png": "[encoded data removed]",
      "text/plain": [
       "<Figure size 1000x1000 with 2 Axes>"
      ]
     },
     "metadata": {},
     "output_type": "display_data"
    }
   ],
   "source": [
    "#get correlations of each features in dataset\n",
    "corrmat = updated_data3.corr()\n",
    "top_corr_features = corrmat.index\n",
    "plt.figure(figsize = (10,10))\n",
    "#plot heat map\n",
    "g = sns.heatmap(updated_data3[top_corr_features].corr(),annot=True, cmap='RdYlGn')"
   ]
  },
  {
   "cell_type": "markdown",
   "id": "c43167db",
   "metadata": {},
   "source": [
    "# Select K-Best Features"
   ]
  },
  {
   "cell_type": "code",
   "execution_count": 42,
   "id": "937cda50",
   "metadata": {},
   "outputs": [],
   "source": [
    "from sklearn.feature_selection import SelectKBest\n",
    "from sklearn.feature_selection import f_regression"
   ]
  },
  {
   "cell_type": "code",
   "execution_count": 43,
   "id": "b7163244",
   "metadata": {},
   "outputs": [
    {
     "data": {
      "text/plain": [
       "array([[540. ,   2.5,  28. ],\n",
       "       [540. ,   2.5,  28. ],\n",
       "       [266. ,   0. ,  90. ],\n",
       "       ...,\n",
       "       [148.5,   6.1,  28. ],\n",
       "       [159.1,  11.3,  28. ],\n",
       "       [260.9,   8.6,  28. ]])"
      ]
     },
     "execution_count": 43,
     "metadata": {},
     "output_type": "execute_result"
    }
   ],
   "source": [
    "bestfeatures = SelectKBest(score_func = f_regression, k=3)\n",
    "new_data = bestfeatures.fit_transform(x,y)\n",
    "new_data"
   ]
  },
  {
   "cell_type": "code",
   "execution_count": 44,
   "id": "2c611ad4",
   "metadata": {},
   "outputs": [
    {
     "data": {
      "text/html": [
       "<div>\n",
       "<style scoped>\n",
       "    .dataframe tbody tr th:only-of-type {\n",
       "        vertical-align: middle;\n",
       "    }\n",
       "\n",
       "    .dataframe tbody tr th {\n",
       "        vertical-align: top;\n",
       "    }\n",
       "\n",
       "    .dataframe thead th {\n",
       "        text-align: right;\n",
       "    }\n",
       "</style>\n",
       "<table border=\"1\" class=\"dataframe\">\n",
       "  <thead>\n",
       "    <tr style=\"text-align: right;\">\n",
       "      <th></th>\n",
       "      <th>Cement</th>\n",
       "      <th>Superplasticizer</th>\n",
       "      <th>Age</th>\n",
       "    </tr>\n",
       "  </thead>\n",
       "  <tbody>\n",
       "    <tr>\n",
       "      <th>0</th>\n",
       "      <td>540.0</td>\n",
       "      <td>2.5</td>\n",
       "      <td>28.0</td>\n",
       "    </tr>\n",
       "    <tr>\n",
       "      <th>1</th>\n",
       "      <td>540.0</td>\n",
       "      <td>2.5</td>\n",
       "      <td>28.0</td>\n",
       "    </tr>\n",
       "    <tr>\n",
       "      <th>2</th>\n",
       "      <td>266.0</td>\n",
       "      <td>0.0</td>\n",
       "      <td>90.0</td>\n",
       "    </tr>\n",
       "    <tr>\n",
       "      <th>3</th>\n",
       "      <td>380.0</td>\n",
       "      <td>0.0</td>\n",
       "      <td>28.0</td>\n",
       "    </tr>\n",
       "    <tr>\n",
       "      <th>4</th>\n",
       "      <td>266.0</td>\n",
       "      <td>0.0</td>\n",
       "      <td>28.0</td>\n",
       "    </tr>\n",
       "  </tbody>\n",
       "</table>\n",
       "</div>"
      ],
      "text/plain": [
       "   Cement  Superplasticizer   Age\n",
       "0   540.0               2.5  28.0\n",
       "1   540.0               2.5  28.0\n",
       "2   266.0               0.0  90.0\n",
       "3   380.0               0.0  28.0\n",
       "4   266.0               0.0  28.0"
      ]
     },
     "execution_count": 44,
     "metadata": {},
     "output_type": "execute_result"
    }
   ],
   "source": [
    "new_data = pd.DataFrame(new_data, columns = x.columns[bestfeatures.get_support()])\n",
    "new_data.head()"
   ]
  },
  {
   "cell_type": "markdown",
   "id": "12c34d7c",
   "metadata": {},
   "source": [
    "# Linear Regression"
   ]
  },
  {
   "cell_type": "code",
   "execution_count": 45,
   "id": "8a5969bf",
   "metadata": {},
   "outputs": [],
   "source": [
    "x_new = updated_data3[['Cement','Superplasticizer','Age']]"
   ]
  },
  {
   "cell_type": "code",
   "execution_count": 46,
   "id": "dacb8d85",
   "metadata": {},
   "outputs": [
    {
     "data": {
      "text/plain": [
       "LinearRegression()"
      ]
     },
     "execution_count": 46,
     "metadata": {},
     "output_type": "execute_result"
    }
   ],
   "source": [
    "from sklearn.linear_model import LinearRegression\n",
    "lr = LinearRegression()\n",
    "lr.fit(x_new, y)"
   ]
  },
  {
   "cell_type": "code",
   "execution_count": 47,
   "id": "7832a9a4",
   "metadata": {},
   "outputs": [
    {
     "data": {
      "text/plain": [
       "35.29410996981244"
      ]
     },
     "execution_count": 47,
     "metadata": {},
     "output_type": "execute_result"
    }
   ],
   "source": [
    "lr.intercept_"
   ]
  },
  {
   "cell_type": "code",
   "execution_count": 48,
   "id": "ed3bb3e7",
   "metadata": {},
   "outputs": [
    {
     "data": {
      "text/plain": [
       "array([7.68261321, 6.80053865, 7.53507043])"
      ]
     },
     "execution_count": 48,
     "metadata": {},
     "output_type": "execute_result"
    }
   ],
   "source": [
    "lr.coef_"
   ]
  },
  {
   "cell_type": "code",
   "execution_count": 49,
   "id": "cc7ea219",
   "metadata": {},
   "outputs": [],
   "source": [
    "prediction = lr.predict(x_new)"
   ]
  },
  {
   "cell_type": "code",
   "execution_count": 50,
   "id": "91469960",
   "metadata": {},
   "outputs": [
    {
     "data": {
      "text/plain": [
       "118.69788178310095"
      ]
     },
     "execution_count": 50,
     "metadata": {},
     "output_type": "execute_result"
    }
   ],
   "source": [
    "from sklearn.metrics import mean_squared_error\n",
    "mean_squared_error(y, prediction)"
   ]
  },
  {
   "cell_type": "code",
   "execution_count": null,
   "id": "e021de9d",
   "metadata": {},
   "outputs": [],
   "source": []
  }
 ],
 "metadata": {
  "kernelspec": {
   "display_name": "Python 3 (ipykernel)",
   "language": "python",
   "name": "python3"
  },
  "language_info": {
   "codemirror_mode": {
    "name": "ipython",
    "version": 3
   },
   "file_extension": ".py",
   "mimetype": "text/x-python",
   "name": "python",
   "nbconvert_exporter": "python",
   "pygments_lexer": "ipython3",
   "version": "3.9.13"
  }
 },
 "nbformat": 4,
 "nbformat_minor": 5
}
